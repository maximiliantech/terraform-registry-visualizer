{
 "cells": [
  {
   "cell_type": "markdown",
   "source": [
    "# Import Modules"
   ],
   "metadata": {
    "collapsed": false,
    "pycharm": {
     "name": "#%% md\n"
    }
   }
  },
  {
   "cell_type": "code",
   "execution_count": null,
   "outputs": [],
   "source": [
    "# Import modules\n",
    "import requests\n",
    "import json\n",
    "import pandas as pd\n",
    "import matplotlib.pyplot as plt"
   ],
   "metadata": {
    "collapsed": false,
    "pycharm": {
     "name": "#%%\n"
    }
   }
  },
  {
   "cell_type": "markdown",
   "source": [
    "# Defining global variables"
   ],
   "metadata": {
    "collapsed": false,
    "pycharm": {
     "name": "#%% md\n"
    }
   }
  },
  {
   "cell_type": "code",
   "execution_count": 273,
   "outputs": [],
   "source": [
    "global_url_modules = \"https://registry.terraform.io/v2/modules\"\n",
    "global_url_provider = \"https://registry.terraform.io/v2/providers\""
   ],
   "metadata": {
    "collapsed": false,
    "pycharm": {
     "name": "#%%\n"
    }
   }
  },
  {
   "cell_type": "markdown",
   "source": [
    "# Defining functions"
   ],
   "metadata": {
    "collapsed": false,
    "pycharm": {
     "name": "#%% md\n"
    }
   }
  },
  {
   "cell_type": "code",
   "execution_count": 275,
   "outputs": [],
   "source": [
    "# Returns from the given URL the pagination data from JSON\n",
    "def get_pagination(url):\n",
    "    response = requests.get(url)\n",
    "    data = json.loads(response.text)\n",
    "    return data['meta']['pagination']"
   ],
   "metadata": {
    "collapsed": false,
    "pycharm": {
     "name": "#%%\n"
    }
   }
  },
  {
   "cell_type": "code",
   "execution_count": 284,
   "outputs": [],
   "source": [
    "# Returns\n",
    "def get_modules(url, pages):\n",
    "    local_list_modules = []\n",
    "    for i in range(pages):\n",
    "        url_page = url + \"?page%5Bnumber%5D=\"+ str(i+1) + \"&page%5Bsize%5D=15\"\n",
    "        response = requests.get(url_page)\n",
    "        data = json.loads(response.text)\n",
    "        print(i)\n",
    "        # convert json data to list\n",
    "        for item in data['data']:\n",
    "            local_list_modules.append(item)\n",
    "\n",
    "    return local_list_modules"
   ],
   "metadata": {
    "collapsed": false,
    "pycharm": {
     "name": "#%%\n"
    }
   }
  },
  {
   "cell_type": "code",
   "execution_count": 277,
   "outputs": [],
   "source": [
    "def get_first_page(url):\n",
    "    url = url + \"?page%5Bnumber%5D=\"+ str(2) + \"&page%5Bsize%5D=15\"\n",
    "    response = requests.get(url)\n",
    "    data = json.loads(response.text)\n",
    "    return data\n",
    "\n",
    "#get_first_page(url_modules)"
   ],
   "metadata": {
    "collapsed": false,
    "pycharm": {
     "name": "#%%\n"
    }
   }
  },
  {
   "cell_type": "markdown",
   "source": [
    "# Providers"
   ],
   "metadata": {
    "collapsed": false,
    "pycharm": {
     "name": "#%% md\n"
    }
   }
  },
  {
   "cell_type": "code",
   "execution_count": 266,
   "outputs": [
    {
     "name": "stdout",
     "output_type": "stream",
     "text": [
      "{'page-size': 15, 'current-page': 1, 'next-page': 2, 'prev-page': None, 'total-pages': 152, 'total-count': 2273}\n"
     ]
    }
   ],
   "source": [
    "print(get_pagination(global_url_provider))"
   ],
   "metadata": {
    "collapsed": false,
    "pycharm": {
     "name": "#%%\n"
    }
   }
  },
  {
   "cell_type": "markdown",
   "source": [
    "# Modules"
   ],
   "metadata": {
    "collapsed": false,
    "pycharm": {
     "name": "#%% md\n"
    }
   }
  },
  {
   "cell_type": "code",
   "execution_count": 289,
   "outputs": [
    {
     "name": "stdout",
     "output_type": "stream",
     "text": [
      "0\n",
      "1\n",
      "2\n",
      "3\n",
      "4\n",
      "5\n",
      "6\n",
      "7\n",
      "8\n",
      "9\n",
      "10\n",
      "11\n"
     ]
    },
    {
     "ename": "KeyError",
     "evalue": "'data'",
     "output_type": "error",
     "traceback": [
      "\u001B[0;31m---------------------------------------------------------------------------\u001B[0m",
      "\u001B[0;31mKeyError\u001B[0m                                  Traceback (most recent call last)",
      "Input \u001B[0;32mIn [289]\u001B[0m, in \u001B[0;36m<cell line: 2>\u001B[0;34m()\u001B[0m\n\u001B[1;32m      1\u001B[0m \u001B[38;5;66;03m# Getting the list of all modules of v2 API\u001B[39;00m\n\u001B[0;32m----> 2\u001B[0m list_modules \u001B[38;5;241m=\u001B[39m \u001B[38;5;28mlist\u001B[39m(\u001B[43mget_all_data\u001B[49m\u001B[43m(\u001B[49m\u001B[43murl_modules\u001B[49m\u001B[43m,\u001B[49m\u001B[43m \u001B[49m\u001B[43mget_pagination\u001B[49m\u001B[43m(\u001B[49m\u001B[43murl_modules\u001B[49m\u001B[43m)\u001B[49m\u001B[43m[\u001B[49m\u001B[38;5;124;43m'\u001B[39;49m\u001B[38;5;124;43mtotal-pages\u001B[39;49m\u001B[38;5;124;43m'\u001B[39;49m\u001B[43m]\u001B[49m\u001B[43m)\u001B[49m)\n",
      "Input \u001B[0;32mIn [284]\u001B[0m, in \u001B[0;36mget_all_data\u001B[0;34m(url, pages)\u001B[0m\n\u001B[1;32m      7\u001B[0m     \u001B[38;5;28mprint\u001B[39m(i)\n\u001B[1;32m      8\u001B[0m     \u001B[38;5;66;03m# convert json data to list\u001B[39;00m\n\u001B[0;32m----> 9\u001B[0m     \u001B[38;5;28;01mfor\u001B[39;00m item \u001B[38;5;129;01min\u001B[39;00m \u001B[43mdata\u001B[49m\u001B[43m[\u001B[49m\u001B[38;5;124;43m'\u001B[39;49m\u001B[38;5;124;43mdata\u001B[39;49m\u001B[38;5;124;43m'\u001B[39;49m\u001B[43m]\u001B[49m:\n\u001B[1;32m     10\u001B[0m         data_modules\u001B[38;5;241m.\u001B[39mappend(item)\n\u001B[1;32m     12\u001B[0m \u001B[38;5;28;01mreturn\u001B[39;00m data_modules\n",
      "\u001B[0;31mKeyError\u001B[0m: 'data'"
     ]
    }
   ],
   "source": [
    "# Getting the list of all modules of v2 API\n",
    "list_modules = list(get_modules(global_url_modules, get_pagination(global_url_modules)['total-pages']))"
   ],
   "metadata": {
    "collapsed": false,
    "pycharm": {
     "name": "#%%\n"
    }
   }
  }
 ],
 "metadata": {
  "kernelspec": {
   "display_name": "Python 3",
   "language": "python",
   "name": "python3"
  },
  "language_info": {
   "codemirror_mode": {
    "name": "ipython",
    "version": 2
   },
   "file_extension": ".py",
   "mimetype": "text/x-python",
   "name": "python",
   "nbconvert_exporter": "python",
   "pygments_lexer": "ipython2",
   "version": "2.7.6"
  }
 },
 "nbformat": 4,
 "nbformat_minor": 0
}