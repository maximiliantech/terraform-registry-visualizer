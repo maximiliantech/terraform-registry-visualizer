{
 "cells": [
  {
   "cell_type": "markdown",
   "metadata": {
    "collapsed": false,
    "pycharm": {
     "name": "#%% md\n"
    }
   },
   "source": [
    "# Import Modules"
   ]
  },
  {
   "cell_type": "code",
   "execution_count": 12,
   "metadata": {
    "collapsed": false,
    "pycharm": {
     "name": "#%%\n"
    }
   },
   "outputs": [],
   "source": [
    "import requests\n",
    "import json\n",
    "import pandas as pd\n",
    "import matplotlib.pyplot as plt"
   ]
  },
  {
   "cell_type": "markdown",
   "metadata": {
    "collapsed": false,
    "pycharm": {
     "name": "#%% md\n"
    }
   },
   "source": [
    "# Defining global variables"
   ]
  },
  {
   "cell_type": "code",
   "execution_count": 10,
   "metadata": {
    "collapsed": false,
    "pycharm": {
     "name": "#%%\n"
    }
   },
   "outputs": [],
   "source": [
    "# V1 Base URL\n",
    "global_url_v1_modules = \"https://registry.terraform.io/v1/modules\"\n",
    "global_url_v1_provider = \"https://registry.terraform.io/v1/providers\"\n",
    "\n",
    "# V2 Base URL\n",
    "global_url_v2_modules = \"https://registry.terraform.io/v2/modules\"\n",
    "global_url_v2_provider = \"https://registry.terraform.io/v2/providers\"\n",
    "\n",
    "# GitHub Repository URL for Providers\n",
    "global_url_github_provider_aws = \"hashicorp/terraform-provider-aws\"\n",
    "global_url_github_provider_azurerm = \"hashicorp/terraform-provider-azurerm\"\n",
    "global_url_github_provider_google = \"hashicorp/terraform-provider-google\"\n",
    "\n",
    "global_url_github_api = \"https://api.github.com\""
   ]
  },
  {
   "cell_type": "markdown",
   "metadata": {
    "collapsed": false,
    "pycharm": {
     "name": "#%% md\n"
    }
   },
   "source": [
    "# General functions"
   ]
  },
  {
   "cell_type": "code",
   "execution_count": 3,
   "metadata": {},
   "outputs": [],
   "source": [
    "# Get JSON data from URL\n",
    "def get_json_data(url):\n",
    "    response = requests.get(url)\n",
    "    data = json.loads(response.text)\n",
    "    return data"
   ]
  },
  {
   "cell_type": "code",
   "execution_count": 4,
   "metadata": {},
   "outputs": [],
   "source": [
    "def v1_get_pagination(url):\n",
    "    data = get_json_data(url)\n",
    "    return data['meta']"
   ]
  },
  {
   "cell_type": "code",
   "execution_count": 5,
   "metadata": {},
   "outputs": [],
   "source": [
    "def get_pagination_v1_from_json(data):\n",
    "    return data['meta']"
   ]
  },
  {
   "cell_type": "code",
   "execution_count": 6,
   "metadata": {
    "collapsed": false,
    "pycharm": {
     "name": "#%%\n"
    }
   },
   "outputs": [],
   "source": [
    "# Returns from the given URL the pagination data from JSON\n",
    "def v2_get_pagination(url):\n",
    "    data = get_json_data(url)\n",
    "    return data['meta']['pagination']"
   ]
  },
  {
   "cell_type": "code",
   "execution_count": 7,
   "metadata": {},
   "outputs": [],
   "source": [
    "def v1_next_offset_from_url(url):\n",
    "    meta_data = v1_get_pagination(url)\n",
    "    return meta_data['next_offset']"
   ]
  },
  {
   "cell_type": "code",
   "execution_count": 8,
   "metadata": {},
   "outputs": [],
   "source": [
    "def next_offset_from_json(data):\n",
    "    return data['next_offset']"
   ]
  },
  {
   "cell_type": "code",
   "execution_count": 13,
   "metadata": {
    "collapsed": false,
    "pycharm": {
     "name": "#%%\n"
    }
   },
   "outputs": [
    {
     "data": {
      "text/plain": [
       "{'meta': {'limit': 15,\n",
       "  'current_offset': 0,\n",
       "  'next_offset': 15,\n",
       "  'next_url': 'https:///v1/modules?offset=15'},\n",
       " 'modules': [{'id': 'GoogleCloudPlatform/lb-http/google/6.3.0',\n",
       "   'owner': '',\n",
       "   'namespace': 'GoogleCloudPlatform',\n",
       "   'name': 'lb-http',\n",
       "   'version': '6.3.0',\n",
       "   'provider': 'google',\n",
       "   'provider_logo_url': '/images/providers/google-cloud.svg',\n",
       "   'description': 'Modular Global HTTP Load Balancer for GCE using forwarding rules.',\n",
       "   'source': 'https://github.com/GoogleCloudPlatform/terraform-google-lb-http',\n",
       "   'tag': 'v6.3.0',\n",
       "   'published_at': '2022-07-29T18:16:07.22478Z',\n",
       "   'downloads': 482856,\n",
       "   'verified': True},\n",
       "  {'id': 'terraform-aws-modules/vpc/aws/3.14.2',\n",
       "   'owner': '',\n",
       "   'namespace': 'terraform-aws-modules',\n",
       "   'name': 'vpc',\n",
       "   'version': '3.14.2',\n",
       "   'provider': 'aws',\n",
       "   'provider_logo_url': '/images/providers/aws.png',\n",
       "   'description': 'Terraform module which creates VPC resources on AWS 🇺🇦',\n",
       "   'source': 'https://github.com/terraform-aws-modules/terraform-aws-vpc',\n",
       "   'tag': 'v3.14.2',\n",
       "   'published_at': '2022-08-05T14:58:01.958347Z',\n",
       "   'downloads': 25092045,\n",
       "   'verified': True},\n",
       "  {'id': 'GoogleCloudPlatform/managed-instance-group/google/1.1.15',\n",
       "   'owner': '',\n",
       "   'namespace': 'GoogleCloudPlatform',\n",
       "   'name': 'managed-instance-group',\n",
       "   'version': '1.1.15',\n",
       "   'provider': 'google',\n",
       "   'provider_logo_url': '/images/providers/google-cloud.svg',\n",
       "   'description': 'Modular Google Compute Engine managed instance group for Terraform.',\n",
       "   'source': 'https://github.com/GoogleCloudPlatform/terraform-google-managed-instance-group',\n",
       "   'tag': '1.1.15',\n",
       "   'published_at': '2019-02-14T16:55:26.567562Z',\n",
       "   'downloads': 149467,\n",
       "   'verified': True},\n",
       "  {'id': 'GoogleCloudPlatform/lb-internal/google/5.0.0',\n",
       "   'owner': '',\n",
       "   'namespace': 'GoogleCloudPlatform',\n",
       "   'name': 'lb-internal',\n",
       "   'version': '5.0.0',\n",
       "   'provider': 'google',\n",
       "   'provider_logo_url': '/images/providers/google-cloud.svg',\n",
       "   'description': 'Modular Internal Load Balancer for GCE using forwarding rules.',\n",
       "   'source': 'https://github.com/GoogleCloudPlatform/terraform-google-lb-internal',\n",
       "   'tag': 'v5.0.0',\n",
       "   'published_at': '2022-07-19T15:30:50.734572Z',\n",
       "   'downloads': 162477,\n",
       "   'verified': True},\n",
       "  {'id': 'GoogleCloudPlatform/nat-gateway/google/1.2.3',\n",
       "   'owner': '',\n",
       "   'namespace': 'GoogleCloudPlatform',\n",
       "   'name': 'nat-gateway',\n",
       "   'version': '1.2.3',\n",
       "   'provider': 'google',\n",
       "   'provider_logo_url': '/images/providers/google-cloud.svg',\n",
       "   'description': 'Modular NAT Gateway on Google Compute Engine for Terraform.',\n",
       "   'source': 'https://github.com/GoogleCloudPlatform/terraform-google-nat-gateway',\n",
       "   'tag': 'v1.2.3',\n",
       "   'published_at': '2020-02-12T16:37:09.082788Z',\n",
       "   'downloads': 53698,\n",
       "   'verified': True},\n",
       "  {'id': 'Azure/loadbalancer/azurerm/3.4.0',\n",
       "   'owner': '',\n",
       "   'namespace': 'Azure',\n",
       "   'name': 'loadbalancer',\n",
       "   'version': '3.4.0',\n",
       "   'provider': 'azurerm',\n",
       "   'provider_logo_url': '/images/providers/azure.svg?3',\n",
       "   'description': 'Terraform Azure RM Module for Load Balancer',\n",
       "   'source': 'https://github.com/Azure/terraform-azurerm-loadbalancer',\n",
       "   'tag': '3.4.0',\n",
       "   'published_at': '2021-05-26T06:12:12.750426Z',\n",
       "   'downloads': 10793,\n",
       "   'verified': True},\n",
       "  {'id': 'Azure/network/azurerm/3.5.0',\n",
       "   'owner': '',\n",
       "   'namespace': 'Azure',\n",
       "   'name': 'network',\n",
       "   'version': '3.5.0',\n",
       "   'provider': 'azurerm',\n",
       "   'provider_logo_url': '/images/providers/azure.svg?3',\n",
       "   'description': 'Terraform Azure RM Module for Network',\n",
       "   'source': 'https://github.com/Azure/terraform-azurerm-network',\n",
       "   'tag': '3.5.0',\n",
       "   'published_at': '2021-05-31T06:08:51.988319Z',\n",
       "   'downloads': 167851,\n",
       "   'verified': True},\n",
       "  {'id': 'Azure/computegroup/azurerm/2.1.0',\n",
       "   'owner': '',\n",
       "   'namespace': 'Azure',\n",
       "   'name': 'computegroup',\n",
       "   'version': '2.1.0',\n",
       "   'provider': 'azurerm',\n",
       "   'provider_logo_url': '/images/providers/azure.svg?3',\n",
       "   'description': 'Terraform Azure RM Compute Group Module',\n",
       "   'source': 'https://github.com/Azure/terraform-azurerm-computegroup',\n",
       "   'tag': 'v2.1.0',\n",
       "   'published_at': '2019-02-14T16:55:32.116884Z',\n",
       "   'downloads': 2373,\n",
       "   'verified': True},\n",
       "  {'id': 'Azure/compute/azurerm/3.14.0',\n",
       "   'owner': '',\n",
       "   'namespace': 'Azure',\n",
       "   'name': 'compute',\n",
       "   'version': '3.14.0',\n",
       "   'provider': 'azurerm',\n",
       "   'provider_logo_url': '/images/providers/azure.svg?3',\n",
       "   'description': 'Terraform Azure RM Compute Module',\n",
       "   'source': 'https://github.com/Azure/terraform-azurerm-compute',\n",
       "   'tag': '3.14',\n",
       "   'published_at': '2021-05-25T01:30:43.717457Z',\n",
       "   'downloads': 64868,\n",
       "   'verified': True},\n",
       "  {'id': 'alibaba/ecs-instance/alicloud/2.10.0',\n",
       "   'owner': '',\n",
       "   'namespace': 'alibaba',\n",
       "   'name': 'ecs-instance',\n",
       "   'version': '2.10.0',\n",
       "   'provider': 'alicloud',\n",
       "   'provider_logo_url': '/images/providers/alibaba.png?2',\n",
       "   'description': 'Terraform module which creates ECS instance(s) on Alibaba Cloud.',\n",
       "   'source': 'https://github.com/alibaba/terraform-alicloud-ecs-instance',\n",
       "   'tag': 'v2.10.0',\n",
       "   'published_at': '2022-07-07T07:48:14.499843Z',\n",
       "   'downloads': 17395,\n",
       "   'verified': True},\n",
       "  {'id': 'alibaba/slb/alicloud/1.7.0',\n",
       "   'owner': '',\n",
       "   'namespace': 'alibaba',\n",
       "   'name': 'slb',\n",
       "   'version': '1.7.0',\n",
       "   'provider': 'alicloud',\n",
       "   'provider_logo_url': '/images/providers/alibaba.png?2',\n",
       "   'description': 'Terraform module which creates Load balancer and attach ECS instances in it on Alibaba Cloud.',\n",
       "   'source': 'https://github.com/alibaba/terraform-alicloud-slb',\n",
       "   'tag': 'v1.7.0',\n",
       "   'published_at': '2021-12-05T13:00:41.317039Z',\n",
       "   'downloads': 3378,\n",
       "   'verified': True},\n",
       "  {'id': 'alibaba/vpc/alicloud/1.10.0',\n",
       "   'owner': '',\n",
       "   'namespace': 'alibaba',\n",
       "   'name': 'vpc',\n",
       "   'version': '1.10.0',\n",
       "   'provider': 'alicloud',\n",
       "   'provider_logo_url': '/images/providers/alibaba.png?2',\n",
       "   'description': 'Terraform module which creates VPC and Subnet resources on Alibaba Cloud.',\n",
       "   'source': 'https://github.com/alibaba/terraform-alicloud-vpc',\n",
       "   'tag': 'v1.10.0',\n",
       "   'published_at': '2022-04-13T10:31:35.709404Z',\n",
       "   'downloads': 29401,\n",
       "   'verified': True},\n",
       "  {'id': 'terraform-aws-modules/ec2-instance/aws/4.1.1',\n",
       "   'owner': '',\n",
       "   'namespace': 'terraform-aws-modules',\n",
       "   'name': 'ec2-instance',\n",
       "   'version': '4.1.1',\n",
       "   'provider': 'aws',\n",
       "   'provider_logo_url': '/images/providers/aws.png',\n",
       "   'description': 'Terraform module which creates EC2 instance(s) on AWS 🇺🇦',\n",
       "   'source': 'https://github.com/terraform-aws-modules/terraform-aws-ec2-instance',\n",
       "   'tag': 'v4.1.1',\n",
       "   'published_at': '2022-07-21T15:53:09.59695Z',\n",
       "   'downloads': 3692876,\n",
       "   'verified': True},\n",
       "  {'id': 'oracle/compute-instance/opc/1.0.1',\n",
       "   'owner': '',\n",
       "   'namespace': 'oracle',\n",
       "   'name': 'compute-instance',\n",
       "   'version': '1.0.1',\n",
       "   'provider': 'opc',\n",
       "   'provider_logo_url': '/images/providers/oracle.svg',\n",
       "   'description': 'Terraform Module for creating Oracle Cloud Infrastructure OPC Compute instances',\n",
       "   'source': 'https://github.com/oracle/terraform-opc-compute-instance',\n",
       "   'tag': 'v1.0.1',\n",
       "   'published_at': '2019-02-14T16:55:38.116329Z',\n",
       "   'downloads': 834,\n",
       "   'verified': True},\n",
       "  {'id': 'alibaba/security-group/alicloud/2.4.0',\n",
       "   'owner': '',\n",
       "   'namespace': 'alibaba',\n",
       "   'name': 'security-group',\n",
       "   'version': '2.4.0',\n",
       "   'provider': 'alicloud',\n",
       "   'provider_logo_url': '/images/providers/alibaba.png?2',\n",
       "   'description': 'Terraform module which creates Security Group and sets rules for it on Alibaba Cloud.',\n",
       "   'source': 'https://github.com/alibaba/terraform-alicloud-security-group',\n",
       "   'tag': 'v2.4.0',\n",
       "   'published_at': '2021-08-29T13:02:46.663333Z',\n",
       "   'downloads': 12240,\n",
       "   'verified': True}]}"
      ]
     },
     "execution_count": 13,
     "metadata": {},
     "output_type": "execute_result"
    }
   ],
   "source": [
    "# NOTE: Please use number+=15\n",
    "def get_page_v1(url, number):\n",
    "    url = url + \"?offset=\" + str(number)\n",
    "    response = requests.get(url)\n",
    "    data = json.loads(response.text)\n",
    "    return data\n",
    "\n",
    "get_page_v1(global_url_v1_modules, 0)"
   ]
  },
  {
   "cell_type": "markdown",
   "metadata": {
    "collapsed": false,
    "pycharm": {
     "name": "#%% md\n"
    }
   },
   "source": [
    "# Providers"
   ]
  },
  {
   "cell_type": "markdown",
   "metadata": {},
   "source": [
    "## Provider Visualization"
   ]
  },
  {
   "cell_type": "code",
   "execution_count": 34,
   "metadata": {
    "collapsed": false,
    "pycharm": {
     "name": "#%%\n"
    }
   },
   "outputs": [
    {
     "name": "stderr",
     "output_type": "stream",
     "text": [
      "/var/folders/b3/xpf5q6kd44gds4y7g83j7yyh0000gn/T/ipykernel_91155/245025566.py:23: FutureWarning: The frame.append method is deprecated and will be removed from pandas in a future version. Use pandas.concat instead.\n",
      "  df_provider = df_provider.append(aws_downloads, ignore_index=True)\n",
      "/var/folders/b3/xpf5q6kd44gds4y7g83j7yyh0000gn/T/ipykernel_91155/245025566.py:24: FutureWarning: The frame.append method is deprecated and will be removed from pandas in a future version. Use pandas.concat instead.\n",
      "  df_provider = df_provider.append(azurerm_downloads, ignore_index=True)\n",
      "/var/folders/b3/xpf5q6kd44gds4y7g83j7yyh0000gn/T/ipykernel_91155/245025566.py:25: FutureWarning: The frame.append method is deprecated and will be removed from pandas in a future version. Use pandas.concat instead.\n",
      "  df_provider = df_provider.append(google_downloads, ignore_index=True)\n"
     ]
    },
    {
     "data": {
      "text/plain": [
       "<AxesSubplot:ylabel='name'>"
      ]
     },
     "execution_count": 34,
     "metadata": {},
     "output_type": "execute_result"
    },
    {
     "data": {
      "image/png": "[encoded data removed]",
      "text/plain": [
       "<Figure size 432x288 with 1 Axes>"
      ]
     },
     "metadata": {
      "needs_background": "light"
     },
     "output_type": "display_data"
    }
   ],
   "source": [
    "# There is no API endpoint to get the detailed downloads metrics of all provider\n",
    "# So, the download metrics of the aws, google and azurerm are collected manually from the website\n",
    "# Source date: 08/08/2022\n",
    "aws_downloads = {'name': 'aws',\n",
    "                'Downloads this week': 16700000,\n",
    "                'Downloads this month': 16700000,\n",
    "                'Downloads this year': 414600000,\n",
    "                'Downloads over all time': 1000000000}\n",
    "\n",
    "azurerm_downloads = {'name': 'azurerm',\n",
    "                'Downloads this week': 4000000,\n",
    "                'Downloads this month': 4000000,\n",
    "                'Downloads this year': 88800000,\n",
    "                'Downloads over all time': 186700000} \n",
    "\n",
    "google_downloads = {'name': 'google',\n",
    "                'Downloads this week': 2500000,\n",
    "                'Downloads this month': 2500000,\n",
    "                'Downloads this year': 63200000,\n",
    "                'Downloads over all time': 165100000} \n",
    "\n",
    "df_provider = pd.DataFrame()\n",
    "df_provider = df_provider.append(aws_downloads, ignore_index=True)\n",
    "df_provider = df_provider.append(azurerm_downloads, ignore_index=True)\n",
    "df_provider = df_provider.append(google_downloads, ignore_index=True)\n",
    "\n",
    "df_provider.plot(x='name', y=['Downloads this week', 'Downloads this month', 'Downloads this year', 'Downloads over all time'], kind='barh')"
   ]
  },
  {
   "cell_type": "markdown",
   "metadata": {
    "collapsed": false,
    "pycharm": {
     "name": "#%% md\n"
    }
   },
   "source": [
    "# Modules"
   ]
  },
  {
   "cell_type": "markdown",
   "metadata": {},
   "source": [
    "## Module functions"
   ]
  },
  {
   "cell_type": "code",
   "execution_count": 16,
   "metadata": {},
   "outputs": [],
   "source": [
    "def v1_get_modules_from_provider(url, provider):\n",
    "    local_list_modules = []\n",
    "    # set start URL\n",
    "    url = url + \"?provider=\" + str(provider)\n",
    "    while True:\n",
    "        # get JSON data from URL\n",
    "        data = get_json_data(url)\n",
    "\n",
    "        # get meta data header from current URL\n",
    "        page_meta_data = get_pagination_v1_from_json(data)\n",
    "\n",
    "        # if there is a next offset, get the modules\n",
    "        if \"next_offset\" in page_meta_data:\n",
    "            # get the next offset from loaded meta data\n",
    "            next_offset = next_offset_from_json(page_meta_data)\n",
    "\n",
    "            # append the modules to the local list\n",
    "            for module in data['modules']:\n",
    "                local_list_modules.append(module)\n",
    "\n",
    "            # update the url with the next offset\n",
    "            url = global_url_v1_modules + \"?provider=\" + str(provider) + \"&offset=\" + str(next_offset)\n",
    "        # if there is no next offset, break the loop\n",
    "        else:\n",
    "            # attend the displayed modules in the last page too\n",
    "            for module in data['modules']:\n",
    "                local_list_modules.append(module)\n",
    "\n",
    "            break\n",
    "            \n",
    "    return local_list_modules"
   ]
  },
  {
   "cell_type": "code",
   "execution_count": 17,
   "metadata": {
    "collapsed": false,
    "pycharm": {
     "name": "#%%\n"
    }
   },
   "outputs": [],
   "source": [
    "def get_modules_v2(url, pages):\n",
    "    local_list_modules = []\n",
    "    for i in range(pages):\n",
    "        url_page = url + \"?page%5Bnumber%5D=\" + str(i+1) + \"&page%5Bsize%5D=15\"\n",
    "        data = get_json_data(url_page)\n",
    "        print(i)\n",
    "        # convert json data to list\n",
    "        for item in data['data']:\n",
    "            local_list_modules.append(item)\n",
    "\n",
    "    return local_list_modules"
   ]
  },
  {
   "cell_type": "markdown",
   "metadata": {},
   "source": [
    "## Visualization"
   ]
  },
  {
   "cell_type": "code",
   "execution_count": 35,
   "metadata": {
    "collapsed": false,
    "pycharm": {
     "name": "#%%\n"
    }
   },
   "outputs": [
    {
     "name": "stderr",
     "output_type": "stream",
     "text": [
      "/var/folders/b3/xpf5q6kd44gds4y7g83j7yyh0000gn/T/ipykernel_91155/3913873407.py:15: FutureWarning: The frame.append method is deprecated and will be removed from pandas in a future version. Use pandas.concat instead.\n",
      "  df_modules = df_modules.append(aws_modules, ignore_index=True)\n",
      "/var/folders/b3/xpf5q6kd44gds4y7g83j7yyh0000gn/T/ipykernel_91155/3913873407.py:16: FutureWarning: The frame.append method is deprecated and will be removed from pandas in a future version. Use pandas.concat instead.\n",
      "  df_modules = df_modules.append(azurerm_modules, ignore_index=True)\n",
      "/var/folders/b3/xpf5q6kd44gds4y7g83j7yyh0000gn/T/ipykernel_91155/3913873407.py:17: FutureWarning: The frame.append method is deprecated and will be removed from pandas in a future version. Use pandas.concat instead.\n",
      "  df_modules = df_modules.append(google_modules, ignore_index=True)\n"
     ]
    },
    {
     "data": {
      "text/plain": [
       "<AxesSubplot:ylabel='name'>"
      ]
     },
     "execution_count": 35,
     "metadata": {},
     "output_type": "execute_result"
    },
    {
     "data": {
      "image/png": "[encoded data removed]",
      "text/plain": [
       "<Figure size 432x288 with 1 Axes>"
      ]
     },
     "metadata": {
      "needs_background": "light"
     },
     "output_type": "display_data"
    }
   ],
   "source": [
    "aws_modules = {\n",
    "    'name': 'aws',\n",
    "    'Number of Modules': len(v1_get_modules_from_provider(global_url_v1_modules, \"aws\"))\n",
    "}\n",
    "azurerm_modules = {\n",
    "    'name': 'azurerm',\n",
    "    'Number of Modules': len(v1_get_modules_from_provider(global_url_v1_modules, \"azurerm\"))\n",
    "}\n",
    "google_modules = {\n",
    "    'name': 'google',\n",
    "    'Number of Modules': len(v1_get_modules_from_provider(global_url_v1_modules, \"google\"))\n",
    "}\n",
    "\n",
    "df_modules = pd.DataFrame()\n",
    "df_modules = df_modules.append(aws_modules, ignore_index=True)\n",
    "df_modules = df_modules.append(azurerm_modules, ignore_index=True)\n",
    "df_modules = df_modules.append(google_modules, ignore_index=True)\n",
    "\n",
    "df_modules.plot(x='name', y=['Number of Modules'], kind='barh')"
   ]
  },
  {
   "cell_type": "markdown",
   "metadata": {},
   "source": [
    "# GitHub metrics"
   ]
  },
  {
   "cell_type": "code",
   "execution_count": 25,
   "metadata": {},
   "outputs": [],
   "source": [
    "json_data_aws = get_json_data(global_url_github_api + \"/repos/\" + global_url_github_provider_aws)\n",
    "json_data_google = get_json_data(global_url_github_api + \"/repos/\" + global_url_github_provider_google)\n",
    "json_data_azurerm = get_json_data(global_url_github_api + \"/repos/\" + global_url_github_provider_azurerm)"
   ]
  },
  {
   "cell_type": "code",
   "execution_count": 26,
   "metadata": {},
   "outputs": [
    {
     "name": "stderr",
     "output_type": "stream",
     "text": [
      "/var/folders/b3/xpf5q6kd44gds4y7g83j7yyh0000gn/T/ipykernel_91155/653868864.py:2: FutureWarning: The frame.append method is deprecated and will be removed from pandas in a future version. Use pandas.concat instead.\n",
      "  df = df.append(json_data_aws, ignore_index=True)\n",
      "/var/folders/b3/xpf5q6kd44gds4y7g83j7yyh0000gn/T/ipykernel_91155/653868864.py:3: FutureWarning: The frame.append method is deprecated and will be removed from pandas in a future version. Use pandas.concat instead.\n",
      "  df = df.append(json_data_azurerm, ignore_index=True)\n",
      "/var/folders/b3/xpf5q6kd44gds4y7g83j7yyh0000gn/T/ipykernel_91155/653868864.py:4: FutureWarning: The frame.append method is deprecated and will be removed from pandas in a future version. Use pandas.concat instead.\n",
      "  df = df.append(json_data_google, ignore_index=True)\n"
     ]
    }
   ],
   "source": [
    "df = pd.DataFrame()\n",
    "df = df.append(json_data_aws, ignore_index=True)\n",
    "df = df.append(json_data_azurerm, ignore_index=True)\n",
    "df = df.append(json_data_google, ignore_index=True)"
   ]
  },
  {
   "cell_type": "markdown",
   "metadata": {},
   "source": [
    "## Visualization"
   ]
  },
  {
   "cell_type": "code",
   "execution_count": 27,
   "metadata": {},
   "outputs": [
    {
     "data": {
      "text/plain": [
       "<AxesSubplot:ylabel='name'>"
      ]
     },
     "execution_count": 27,
     "metadata": {},
     "output_type": "execute_result"
    },
    {
     "data": {
      "image/png": "[encoded data removed]",
      "text/plain": [
       "<Figure size 432x288 with 1 Axes>"
      ]
     },
     "metadata": {
      "needs_background": "light"
     },
     "output_type": "display_data"
    }
   ],
   "source": [
    "# plot number of stars, forks and open issues in horizontal bar chart\n",
    "df.plot(x='name', y=['stargazers_count','forks_count','open_issues_count'], kind='barh')"
   ]
  }
 ],
 "metadata": {
  "kernelspec": {
   "display_name": "Python 3.10.4 ('terraform-registry-visualizer')",
   "language": "python",
   "name": "python3"
  },
  "language_info": {
   "codemirror_mode": {
    "name": "ipython",
    "version": 3
   },
   "file_extension": ".py",
   "mimetype": "text/x-python",
   "name": "python",
   "nbconvert_exporter": "python",
   "pygments_lexer": "ipython3",
   "version": "3.10.4"
  },
  "vscode": {
   "interpreter": {
    "hash": "621bd104c6ab424e35dabc483e6f6de3a97cdb9734299da1c6e6119b8821eb84"
   }
  }
 },
 "nbformat": 4,
 "nbformat_minor": 0
}
