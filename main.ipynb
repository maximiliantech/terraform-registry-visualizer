{
 "cells": [
  {
   "cell_type": "markdown",
   "source": [
    "# Import Modules"
   ],
   "metadata": {
    "collapsed": false,
    "pycharm": {
     "name": "#%% md\n"
    }
   }
  },
  {
   "cell_type": "code",
   "execution_count": null,
   "outputs": [],
   "source": [
    "# Import modules\n",
    "import requests\n",
    "import json\n",
    "import pandas as pd\n",
    "import matplotlib.pyplot as plt"
   ],
   "metadata": {
    "collapsed": false,
    "pycharm": {
     "name": "#%%\n"
    }
   }
  },
  {
   "cell_type": "markdown",
   "source": [
    "# Defining global variables"
   ],
   "metadata": {
    "collapsed": false,
    "pycharm": {
     "name": "#%% md\n"
    }
   }
  },
  {
   "cell_type": "code",
   "execution_count": 291,
   "outputs": [],
   "source": [
    "global_url_modules = \"https://registry.terraform.io/v2/modules\"\n",
    "global_url_provider = \"https://registry.terraform.io/v2/providers\""
   ],
   "metadata": {
    "collapsed": false,
    "pycharm": {
     "name": "#%%\n"
    }
   }
  },
  {
   "cell_type": "markdown",
   "source": [
    "# Defining functions"
   ],
   "metadata": {
    "collapsed": false,
    "pycharm": {
     "name": "#%% md\n"
    }
   }
  },
  {
   "cell_type": "code",
   "execution_count": 292,
   "outputs": [],
   "source": [
    "# Returns from the given URL the pagination data from JSON\n",
    "def get_pagination(url):\n",
    "    response = requests.get(url)\n",
    "    data = json.loads(response.text)\n",
    "    return data['meta']['pagination']"
   ],
   "metadata": {
    "collapsed": false,
    "pycharm": {
     "name": "#%%\n"
    }
   }
  },
  {
   "cell_type": "code",
   "execution_count": 293,
   "outputs": [],
   "source": [
    "# Returns\n",
    "def get_modules(url, pages):\n",
    "    local_list_modules = []\n",
    "    for i in range(pages):\n",
    "        url_page = url + \"?page%5Bnumber%5D=\"+ str(i+1) + \"&page%5Bsize%5D=15\"\n",
    "        response = requests.get(url_page)\n",
    "        data = json.loads(response.text)\n",
    "        print(i)\n",
    "        # convert json data to list\n",
    "        for item in data['data']:\n",
    "            local_list_modules.append(item)\n",
    "\n",
    "    return local_list_modules"
   ],
   "metadata": {
    "collapsed": false,
    "pycharm": {
     "name": "#%%\n"
    }
   }
  },
  {
   "cell_type": "code",
   "execution_count": 294,
   "outputs": [
    {
     "data": {
      "text/plain": "{'data': [{'type': 'modules',\n   'id': '1139',\n   'attributes': {'downloads': 3503892,\n    'full-name': 'cloudposse/ecs-container-definition/aws',\n    'name': 'ecs-container-definition',\n    'namespace': 'cloudposse',\n    'owner-name': '',\n    'provider-logo-url': '/images/providers/aws.png',\n    'provider-name': 'aws',\n    'source': 'https://github.com/cloudposse/terraform-aws-ecs-container-definition',\n    'verified': False},\n   'links': {'self': '/v2/modules/1139'}},\n  {'type': 'modules',\n   'id': '61',\n   'attributes': {'downloads': 3248570,\n    'full-name': 'terraform-aws-modules/ec2-instance/aws',\n    'name': 'ec2-instance',\n    'namespace': 'terraform-aws-modules',\n    'owner-name': '',\n    'provider-logo-url': '/images/providers/aws.png',\n    'provider-name': 'aws',\n    'source': 'https://github.com/terraform-aws-modules/terraform-aws-ec2-instance',\n    'verified': True},\n   'links': {'self': '/v2/modules/61'}},\n  {'type': 'modules',\n   'id': '1621',\n   'attributes': {'downloads': 3227686,\n    'full-name': 'terraform-google-modules/network/google',\n    'name': 'network',\n    'namespace': 'terraform-google-modules',\n    'owner-name': '',\n    'provider-logo-url': '/images/providers/google-cloud.svg',\n    'provider-name': 'google',\n    'source': 'https://github.com/terraform-google-modules/terraform-google-network',\n    'verified': True},\n   'links': {'self': '/v2/modules/1621'}},\n  {'type': 'modules',\n   'id': '9756',\n   'attributes': {'downloads': 3155992,\n    'full-name': 'puppetlabs/deployment/ec',\n    'name': 'deployment',\n    'namespace': 'puppetlabs',\n    'owner-name': '',\n    'provider-logo-url': '/images/providers/generic.svg?2',\n    'provider-name': 'ec',\n    'source': 'https://github.com/puppetlabs/terraform-ec-deployment',\n    'verified': False},\n   'links': {'self': '/v2/modules/9756'}},\n  {'type': 'modules',\n   'id': '1624',\n   'attributes': {'downloads': 3047975,\n    'full-name': 'terraform-google-modules/kubernetes-engine/google',\n    'name': 'kubernetes-engine',\n    'namespace': 'terraform-google-modules',\n    'owner-name': '',\n    'provider-logo-url': '/images/providers/google-cloud.svg',\n    'provider-name': 'google',\n    'source': 'https://github.com/terraform-google-modules/terraform-google-kubernetes-engine',\n    'verified': True},\n   'links': {'self': '/v2/modules/1624'}},\n  {'type': 'modules',\n   'id': '77',\n   'attributes': {'downloads': 2974155,\n    'full-name': 'terraform-aws-modules/autoscaling/aws',\n    'name': 'autoscaling',\n    'namespace': 'terraform-aws-modules',\n    'owner-name': '',\n    'provider-logo-url': '/images/providers/aws.png',\n    'provider-name': 'aws',\n    'source': 'https://github.com/terraform-aws-modules/terraform-aws-autoscaling',\n    'verified': True},\n   'links': {'self': '/v2/modules/77'}},\n  {'type': 'modules',\n   'id': '231',\n   'attributes': {'downloads': 2463967,\n    'full-name': 'cloudposse/route53-cluster-hostname/aws',\n    'name': 'route53-cluster-hostname',\n    'namespace': 'cloudposse',\n    'owner-name': '',\n    'provider-logo-url': '/images/providers/aws.png',\n    'provider-name': 'aws',\n    'source': 'https://github.com/cloudposse/terraform-aws-route53-cluster-hostname',\n    'verified': False},\n   'links': {'self': '/v2/modules/231'}},\n  {'type': 'modules',\n   'id': '6933',\n   'attributes': {'downloads': 2338357,\n    'full-name': 'cloudposse/config/aws',\n    'name': 'config',\n    'namespace': 'cloudposse',\n    'owner-name': '',\n    'provider-logo-url': '/images/providers/aws.png',\n    'provider-name': 'aws',\n    'source': 'https://github.com/cloudposse/terraform-aws-config',\n    'verified': False},\n   'links': {'self': '/v2/modules/6933'}},\n  {'type': 'modules',\n   'id': '6129',\n   'attributes': {'downloads': 2252710,\n    'full-name': 'cloudposse/utils/aws',\n    'name': 'utils',\n    'namespace': 'cloudposse',\n    'owner-name': '',\n    'provider-logo-url': '/images/providers/aws.png',\n    'provider-name': 'aws',\n    'source': 'https://github.com/cloudposse/terraform-aws-utils',\n    'verified': False},\n   'links': {'self': '/v2/modules/6129'}},\n  {'type': 'modules',\n   'id': '2514',\n   'attributes': {'downloads': 2174926,\n    'full-name': 'terraform-google-modules/cloud-storage/google',\n    'name': 'cloud-storage',\n    'namespace': 'terraform-google-modules',\n    'owner-name': '',\n    'provider-logo-url': '/images/providers/google-cloud.svg',\n    'provider-name': 'google',\n    'source': 'https://github.com/terraform-google-modules/terraform-google-cloud-storage',\n    'verified': False},\n   'links': {'self': '/v2/modules/2514'}},\n  {'type': 'modules',\n   'id': '5637',\n   'attributes': {'downloads': 1984036,\n    'full-name': 'cloudposse/sns-topic/aws',\n    'name': 'sns-topic',\n    'namespace': 'cloudposse',\n    'owner-name': '',\n    'provider-logo-url': '/images/providers/aws.png',\n    'provider-name': 'aws',\n    'source': 'https://github.com/cloudposse/terraform-aws-sns-topic',\n    'verified': False},\n   'links': {'self': '/v2/modules/5637'}},\n  {'type': 'modules',\n   'id': '2206',\n   'attributes': {'downloads': 1698672,\n    'full-name': 'cloudposse/iam-policy-document-aggregator/aws',\n    'name': 'iam-policy-document-aggregator',\n    'namespace': 'cloudposse',\n    'owner-name': '',\n    'provider-logo-url': '/images/providers/aws.png',\n    'provider-name': 'aws',\n    'source': 'https://github.com/cloudposse/terraform-aws-iam-policy-document-aggregator',\n    'verified': False},\n   'links': {'self': '/v2/modules/2206'}},\n  {'type': 'modules',\n   'id': '291',\n   'attributes': {'downloads': 1638423,\n    'full-name': 'terraform-aws-modules/sqs/aws',\n    'name': 'sqs',\n    'namespace': 'terraform-aws-modules',\n    'owner-name': '',\n    'provider-logo-url': '/images/providers/aws.png',\n    'provider-name': 'aws',\n    'source': 'https://github.com/terraform-aws-modules/terraform-aws-sqs',\n    'verified': True},\n   'links': {'self': '/v2/modules/291'}},\n  {'type': 'modules',\n   'id': '3147',\n   'attributes': {'downloads': 1563560,\n    'full-name': 'hashicorp/subnets/cidr',\n    'name': 'subnets',\n    'namespace': 'hashicorp',\n    'owner-name': '',\n    'provider-logo-url': '/images/providers/generic.svg?2',\n    'provider-name': 'cidr',\n    'source': 'https://github.com/hashicorp/terraform-cidr-subnets',\n    'verified': False},\n   'links': {'self': '/v2/modules/3147'}},\n  {'type': 'modules',\n   'id': '406',\n   'attributes': {'downloads': 1541805,\n    'full-name': 'cloudposse/iam-system-user/aws',\n    'name': 'iam-system-user',\n    'namespace': 'cloudposse',\n    'owner-name': '',\n    'provider-logo-url': '/images/providers/aws.png',\n    'provider-name': 'aws',\n    'source': 'https://github.com/cloudposse/terraform-aws-iam-system-user',\n    'verified': False},\n   'links': {'self': '/v2/modules/406'}}],\n 'links': {'first': '/v2/modules?page%5Bnumber%5D=1&page%5Bsize%5D=15',\n  'last': '/v2/modules?page%5Bnumber%5D=658&page%5Bsize%5D=15',\n  'next': '/v2/modules?page%5Bnumber%5D=3&page%5Bsize%5D=15',\n  'prev': '/v2/modules?page%5Bnumber%5D=1&page%5Bsize%5D=15'},\n 'meta': {'pagination': {'page-size': 15,\n   'current-page': 2,\n   'next-page': 3,\n   'prev-page': 1,\n   'total-pages': 658,\n   'total-count': 9860}}}"
     },
     "execution_count": 294,
     "metadata": {},
     "output_type": "execute_result"
    }
   ],
   "source": [
    "def get_first_page(url):\n",
    "    url = url + \"?page%5Bnumber%5D=\"+ str(2) + \"&page%5Bsize%5D=15\"\n",
    "    response = requests.get(url)\n",
    "    data = json.loads(response.text)\n",
    "    return data\n",
    "\n",
    "get_first_page(global_url_modules)"
   ],
   "metadata": {
    "collapsed": false,
    "pycharm": {
     "name": "#%%\n"
    }
   }
  },
  {
   "cell_type": "markdown",
   "source": [
    "# Providers"
   ],
   "metadata": {
    "collapsed": false,
    "pycharm": {
     "name": "#%% md\n"
    }
   }
  },
  {
   "cell_type": "code",
   "execution_count": 295,
   "outputs": [
    {
     "name": "stdout",
     "output_type": "stream",
     "text": [
      "{'page-size': 15, 'current-page': 1, 'next-page': 2, 'prev-page': None, 'total-pages': 152, 'total-count': 2273}\n"
     ]
    }
   ],
   "source": [
    "print(get_pagination(global_url_provider))"
   ],
   "metadata": {
    "collapsed": false,
    "pycharm": {
     "name": "#%%\n"
    }
   }
  },
  {
   "cell_type": "markdown",
   "source": [
    "# Modules"
   ],
   "metadata": {
    "collapsed": false,
    "pycharm": {
     "name": "#%% md\n"
    }
   }
  },
  {
   "cell_type": "code",
   "execution_count": 296,
   "outputs": [],
   "source": [
    "# Getting the list of all modules of v2 API\n",
    "#list_modules = list(get_modules(global_url_modules, get_pagination(global_url_modules)['total-pages']))\n",
    "\n",
    "# Next, giving pandas the list_modules dataframe\n",
    "#df_modules = pd.DataFrame(list_modules)\n",
    "\n",
    "# query the dataframe to get the list of modules with the provider name like aws, google and azurerm\n",
    "#df_modules_aws = df_modules[df_modules['attributes']['provider-name'] == 'aws']\n",
    "#df_modules_google = df_modules[df_modules['attributes']['provider-name'] == 'google']\n",
    "#df_modules_azurerm = df_modules[df_modules['attributes']['provider-name'] == 'azurerm']"
   ],
   "metadata": {
    "collapsed": false,
    "pycharm": {
     "name": "#%%\n"
    }
   }
  }
 ],
 "metadata": {
  "kernelspec": {
   "display_name": "Python 3",
   "language": "python",
   "name": "python3"
  },
  "language_info": {
   "codemirror_mode": {
    "name": "ipython",
    "version": 2
   },
   "file_extension": ".py",
   "mimetype": "text/x-python",
   "name": "python",
   "nbconvert_exporter": "python",
   "pygments_lexer": "ipython2",
   "version": "2.7.6"
  }
 },
 "nbformat": 4,
 "nbformat_minor": 0
}