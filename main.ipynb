{
 "cells": [
  {
   "cell_type": "markdown",
   "metadata": {
    "collapsed": false,
    "pycharm": {
     "name": "#%% md\n"
    }
   },
   "source": [
    "# Import Modules"
   ]
  },
  {
   "cell_type": "code",
   "execution_count": null,
   "metadata": {
    "collapsed": false,
    "pycharm": {
     "name": "#%%\n"
    }
   },
   "outputs": [],
   "source": [
    "import requests\n",
    "import json\n",
    "import pandas as pd\n",
    "import matplotlib.pyplot as plt"
   ]
  },
  {
   "cell_type": "markdown",
   "metadata": {
    "collapsed": false,
    "pycharm": {
     "name": "#%% md\n"
    }
   },
   "source": [
    "# Defining global variables"
   ]
  },
  {
   "cell_type": "code",
   "execution_count": null,
   "metadata": {
    "collapsed": false,
    "pycharm": {
     "name": "#%%\n"
    }
   },
   "outputs": [],
   "source": [
    "# V1 Base URL\n",
    "global_url_v1_modules = \"https://registry.terraform.io/v1/modules\"\n",
    "global_url_v1_provider = \"https://registry.terraform.io/v1/providers\"\n",
    "\n",
    "# V2 Base URL\n",
    "global_url_v2_modules = \"https://registry.terraform.io/v2/modules\"\n",
    "global_url_v2_provider = \"https://registry.terraform.io/v2/providers\"\n",
    "\n",
    "# GitHub Repository URL for Providers\n",
    "global_url_github_provider_aws = \"https://github.com/hashicorp/terraform-provider-aws\"\n",
    "global_url_github_provider_azurerm = \"https://github.com/hashicorp/terraform-provider-azurerm\"\n",
    "global_url_github_provider_google = \"https://github.com/hashicorp/terraform-provider-google\"\n"
   ]
  },
  {
   "cell_type": "markdown",
   "metadata": {
    "collapsed": false,
    "pycharm": {
     "name": "#%% md\n"
    }
   },
   "source": [
    "# Defining functions"
   ]
  },
  {
   "cell_type": "code",
   "execution_count": null,
   "metadata": {},
   "outputs": [],
   "source": [
    "def get_pagination_v1(url):\n",
    "    response = requests.get(url)\n",
    "    data = json.loads(response.text)\n",
    "    return data['meta']"
   ]
  },
  {
   "cell_type": "code",
   "execution_count": null,
   "metadata": {
    "collapsed": false,
    "pycharm": {
     "name": "#%%\n"
    }
   },
   "outputs": [],
   "source": [
    "# Returns from the given URL the pagination data from JSON\n",
    "def get_pagination_v2(url):\n",
    "    response = requests.get(url)\n",
    "    data = json.loads(response.text)\n",
    "    return data['meta']['pagination']"
   ]
  },
  {
   "cell_type": "code",
   "execution_count": null,
   "metadata": {},
   "outputs": [],
   "source": [
    "def next_offset(url):\n",
    "    meta_data_v1 = get_pagination_v1(url)\n",
    "    return meta_data_v1['next_offset']"
   ]
  },
  {
   "cell_type": "code",
   "execution_count": null,
   "metadata": {},
   "outputs": [],
   "source": [
    "def v1_get_modules_from_provider(url, provider):\n",
    "    local_list_modules = []\n",
    "\n",
    "    while True:\n",
    "        # if there is no next offset, break the loop\n",
    "        if len(get_pagination_v1(url)) == 4:\n",
    "            break\n",
    "        # if there is a next offset, get the modules\n",
    "        else:\n",
    "            # get the next offset\n",
    "            next_offset_v1 = next_offset(url)\n",
    "            # get response \n",
    "            response = requests.get(url)\n",
    "            data = json.loads(response.text)\n",
    "            # append the modules to the local list\n",
    "            for module in data['modules']:\n",
    "                local_list_modules.append(module)\n",
    "            # update the url with the next offset\n",
    "            url = global_url_v1_modules + \"?provider=\" + str(provider) + \"&offset=\" + str(next_offset_v1)\n",
    "\n",
    "    return local_list_modules\n",
    "\n",
    "v1_get_modules_from_provider(global_url_v1_modules, \"aws\")    "
   ]
  },
  {
   "cell_type": "code",
   "execution_count": null,
   "metadata": {
    "collapsed": false,
    "pycharm": {
     "name": "#%%\n"
    }
   },
   "outputs": [],
   "source": [
    "def get_modules_v2(url, pages):\n",
    "    local_list_modules = []\n",
    "    for i in range(pages):\n",
    "        url_page = url + \"?page%5Bnumber%5D=\" + str(i+1) + \"&page%5Bsize%5D=15\"\n",
    "        response = requests.get(url_page)\n",
    "        data = json.loads(response.text)\n",
    "        print(i)\n",
    "        # convert json data to list\n",
    "        for item in data['data']:\n",
    "            local_list_modules.append(item)\n",
    "\n",
    "    return local_list_modules"
   ]
  },
  {
   "cell_type": "code",
   "execution_count": null,
   "metadata": {
    "collapsed": false,
    "pycharm": {
     "name": "#%%\n"
    }
   },
   "outputs": [],
   "source": [
    "# NOTE: Please use number+=15\n",
    "def get_page_v1(url, number):\n",
    "    url = url + \"?offset=\" + str(number)\n",
    "    response = requests.get(url)\n",
    "    data = json.loads(response.text)\n",
    "    return data\n",
    "\n",
    "get_page_v1(global_url_v1_modules, 0)"
   ]
  },
  {
   "cell_type": "markdown",
   "metadata": {
    "collapsed": false,
    "pycharm": {
     "name": "#%% md\n"
    }
   },
   "source": [
    "# Providers"
   ]
  },
  {
   "cell_type": "code",
   "execution_count": null,
   "metadata": {
    "collapsed": false,
    "pycharm": {
     "name": "#%%\n"
    }
   },
   "outputs": [],
   "source": [
    "print(get_pagination_v2(global_url_v2_provider))"
   ]
  },
  {
   "cell_type": "markdown",
   "metadata": {
    "collapsed": false,
    "pycharm": {
     "name": "#%% md\n"
    }
   },
   "source": [
    "# Modules"
   ]
  },
  {
   "cell_type": "code",
   "execution_count": null,
   "metadata": {
    "collapsed": false,
    "pycharm": {
     "name": "#%%\n"
    }
   },
   "outputs": [],
   "source": [
    "# Getting the list of all modules of v2 API\n",
    "#list_modules = list(get_modules(global_url_v2_modules, get_pagination(global_url_v2_modules)['total-pages']))\n",
    "\n",
    "# Next, giving pandas the list_modules dataframe\n",
    "#df_modules = pd.DataFrame(list_modules)\n",
    "\n",
    "# query the dataframe to get the list of modules with the provider name like aws, google and azurerm\n",
    "#df_modules_aws = df_modules[df_modules['attributes']['provider-name'] == 'aws']\n",
    "#df_modules_google = df_modules[df_modules['attributes']['provider-name'] == 'google']\n",
    "#df_modules_azurerm = df_modules[df_modules['attributes']['provider-name'] == 'azurerm']"
   ]
  }
 ],
 "metadata": {
  "kernelspec": {
   "display_name": "Python 3.10.4 ('terraform-registry-visualizer')",
   "language": "python",
   "name": "python3"
  },
  "language_info": {
   "codemirror_mode": {
    "name": "ipython",
    "version": 3
   },
   "file_extension": ".py",
   "mimetype": "text/x-python",
   "name": "python",
   "nbconvert_exporter": "python",
   "pygments_lexer": "ipython3",
   "version": "3.10.4"
  },
  "vscode": {
   "interpreter": {
    "hash": "621bd104c6ab424e35dabc483e6f6de3a97cdb9734299da1c6e6119b8821eb84"
   }
  }
 },
 "nbformat": 4,
 "nbformat_minor": 0
}
