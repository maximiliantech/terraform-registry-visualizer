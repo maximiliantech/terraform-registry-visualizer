{
 "cells": [
  {
   "cell_type": "code",
   "execution_count": null,
   "outputs": [],
   "source": [
    "# Import modules\n",
    "import requests\n",
    "import json\n",
    "import pandas as pd\n",
    "import matplotlib.pyplot as plt"
   ],
   "metadata": {
    "collapsed": false,
    "pycharm": {
     "name": "#%%\n"
    }
   }
  },
  {
   "cell_type": "code",
   "execution_count": 165,
   "outputs": [
    {
     "name": "stdout",
     "output_type": "stream",
     "text": [
      "{'data': {'type': 'providers', 'id': '354', 'attributes': {'alias': 'google', 'description': 'Lifecycle management of GCP resources, including Compute Engine, Cloud Storage, Cloud SDK, Cloud SQL, GKE, BigQuery, Cloud Functions and more. This provider is collaboratively maintained by the Google Terraform Team at Google and the Terraform team at HashiCorp', 'downloads': 155056732, 'featured': True, 'full-name': 'hashicorp/google', 'logo-url': '/images/providers/google-cloud.svg', 'name': 'google', 'namespace': 'hashicorp', 'owner-name': 'hashicorp', 'robots-noindex': False, 'source': 'https://github.com/hashicorp/terraform-provider-google', 'tier': 'official', 'unlisted': False, 'warning': ''}, 'links': {'self': '/v2/providers/354'}}}\n"
     ]
    }
   ],
   "source": [
    "# Test: getting description of google provider\n",
    "url_provider_google = \"https://registry.terraform.io/v2/providers/hashicorp/google\"\n",
    "response_provider_google = requests.get(url_provider_google)\n",
    "data_provider_google = json.loads(response_provider_google.text)\n",
    "print(data_provider_google)"
   ],
   "metadata": {
    "collapsed": false,
    "pycharm": {
     "name": "#%%\n"
    }
   }
  },
  {
   "cell_type": "code",
   "execution_count": 170,
   "outputs": [
    {
     "name": "stdout",
     "output_type": "stream",
     "text": [
      "15\n",
      "{'data': [{'type': 'modules', 'id': '23', 'attributes': {'downloads': 23550103, 'full-name': 'terraform-aws-modules/vpc/aws', 'name': 'vpc', 'namespace': 'terraform-aws-modules', 'owner-name': '', 'provider-logo-url': '/images/providers/aws.png', 'provider-name': 'aws', 'source': 'https://github.com/terraform-aws-modules/terraform-aws-vpc', 'verified': True}, 'links': {'self': '/v2/modules/23'}}, {'type': 'modules', 'id': '179', 'attributes': {'downloads': 16974738, 'full-name': 'cloudposse/label/null', 'name': 'label', 'namespace': 'cloudposse', 'owner-name': '', 'provider-logo-url': '/images/providers/generic.svg?2', 'provider-name': 'null', 'source': 'https://github.com/cloudposse/terraform-null-label', 'verified': False}, 'links': {'self': '/v2/modules/179'}}, {'type': 'modules', 'id': '451', 'attributes': {'downloads': 14388064, 'full-name': 'terraform-aws-modules/security-group/aws', 'name': 'security-group', 'namespace': 'terraform-aws-modules', 'owner-name': '', 'provider-logo-url': '/images/providers/aws.png', 'provider-name': 'aws', 'source': 'https://github.com/terraform-aws-modules/terraform-aws-security-group', 'verified': True}, 'links': {'self': '/v2/modules/451'}}, {'type': 'modules', 'id': '781', 'attributes': {'downloads': 13995107, 'full-name': 'terraform-aws-modules/iam/aws', 'name': 'iam', 'namespace': 'terraform-aws-modules', 'owner-name': '', 'provider-logo-url': '/images/providers/aws.png', 'provider-name': 'aws', 'source': 'https://github.com/terraform-aws-modules/terraform-aws-iam', 'verified': False}, 'links': {'self': '/v2/modules/781'}}, {'type': 'modules', 'id': '1143', 'attributes': {'downloads': 12470084, 'full-name': 'terraform-aws-modules/eks/aws', 'name': 'eks', 'namespace': 'terraform-aws-modules', 'owner-name': '', 'provider-logo-url': '/images/providers/aws.png', 'provider-name': 'aws', 'source': 'https://github.com/terraform-aws-modules/terraform-aws-eks', 'verified': False}, 'links': {'self': '/v2/modules/1143'}}, {'type': 'modules', 'id': '2787', 'attributes': {'downloads': 8984890, 'full-name': 'terraform-aws-modules/s3-bucket/aws', 'name': 's3-bucket', 'namespace': 'terraform-aws-modules', 'owner-name': '', 'provider-logo-url': '/images/providers/aws.png', 'provider-name': 'aws', 'source': 'https://github.com/terraform-aws-modules/terraform-aws-s3-bucket', 'verified': False}, 'links': {'self': '/v2/modules/2787'}}, {'type': 'modules', 'id': '70', 'attributes': {'downloads': 7796669, 'full-name': 'terraform-aws-modules/rds/aws', 'name': 'rds', 'namespace': 'terraform-aws-modules', 'owner-name': '', 'provider-logo-url': '/images/providers/aws.png', 'provider-name': 'aws', 'source': 'https://github.com/terraform-aws-modules/terraform-aws-rds', 'verified': True}, 'links': {'self': '/v2/modules/70'}}, {'type': 'modules', 'id': '5089', 'attributes': {'downloads': 6766968, 'full-name': 'terraform-aws-modules/lambda/aws', 'name': 'lambda', 'namespace': 'terraform-aws-modules', 'owner-name': '', 'provider-logo-url': '/images/providers/aws.png', 'provider-name': 'aws', 'source': 'https://github.com/terraform-aws-modules/terraform-aws-lambda', 'verified': False}, 'links': {'self': '/v2/modules/5089'}}, {'type': 'modules', 'id': '1669', 'attributes': {'downloads': 6475992, 'full-name': 'terraform-google-modules/project-factory/google', 'name': 'project-factory', 'namespace': 'terraform-google-modules', 'owner-name': '', 'provider-logo-url': '/images/providers/google-cloud.svg', 'provider-name': 'google', 'source': 'https://github.com/terraform-google-modules/terraform-google-project-factory', 'verified': True}, 'links': {'self': '/v2/modules/1669'}}, {'type': 'modules', 'id': '503', 'attributes': {'downloads': 5218844, 'full-name': 'terraform-aws-modules/alb/aws', 'name': 'alb', 'namespace': 'terraform-aws-modules', 'owner-name': '', 'provider-logo-url': '/images/providers/aws.png', 'provider-name': 'aws', 'source': 'https://github.com/terraform-aws-modules/terraform-aws-alb', 'verified': True}, 'links': {'self': '/v2/modules/503'}}, {'type': 'modules', 'id': '3537', 'attributes': {'downloads': 5189130, 'full-name': 'terraform-google-modules/gcloud/google', 'name': 'gcloud', 'namespace': 'terraform-google-modules', 'owner-name': '', 'provider-logo-url': '/images/providers/google-cloud.svg', 'provider-name': 'google', 'source': 'https://github.com/terraform-google-modules/terraform-google-gcloud', 'verified': False}, 'links': {'self': '/v2/modules/3537'}}, {'type': 'modules', 'id': '1626', 'attributes': {'downloads': 4890683, 'full-name': 'terraform-google-modules/iam/google', 'name': 'iam', 'namespace': 'terraform-google-modules', 'owner-name': '', 'provider-logo-url': '/images/providers/google-cloud.svg', 'provider-name': 'google', 'source': 'https://github.com/terraform-google-modules/terraform-google-iam', 'verified': True}, 'links': {'self': '/v2/modules/1626'}}, {'type': 'modules', 'id': '7396', 'attributes': {'downloads': 3674273, 'full-name': 'cloudposse/stack-config/yaml', 'name': 'stack-config', 'namespace': 'cloudposse', 'owner-name': '', 'provider-logo-url': '/images/providers/generic.svg?2', 'provider-name': 'yaml', 'source': 'https://github.com/cloudposse/terraform-yaml-stack-config', 'verified': False}, 'links': {'self': '/v2/modules/7396'}}, {'type': 'modules', 'id': '1881', 'attributes': {'downloads': 3667321, 'full-name': 'terraform-aws-modules/acm/aws', 'name': 'acm', 'namespace': 'terraform-aws-modules', 'owner-name': '', 'provider-logo-url': '/images/providers/aws.png', 'provider-name': 'aws', 'source': 'https://github.com/terraform-aws-modules/terraform-aws-acm', 'verified': False}, 'links': {'self': '/v2/modules/1881'}}, {'type': 'modules', 'id': '306', 'attributes': {'downloads': 3560513, 'full-name': 'terraform-aws-modules/rds-aurora/aws', 'name': 'rds-aurora', 'namespace': 'terraform-aws-modules', 'owner-name': '', 'provider-logo-url': '/images/providers/aws.png', 'provider-name': 'aws', 'source': 'https://github.com/terraform-aws-modules/terraform-aws-rds-aurora', 'verified': False}, 'links': {'self': '/v2/modules/306'}}], 'links': {'first': '/v2/modules?page%5Bnumber%5D=1&page%5Bsize%5D=15', 'last': '/v2/modules?page%5Bnumber%5D=657&page%5Bsize%5D=15', 'next': '/v2/modules?page%5Bnumber%5D=2&page%5Bsize%5D=15', 'prev': None}, 'meta': {'pagination': {'page-size': 15, 'current-page': 1, 'next-page': 2, 'prev-page': None, 'total-pages': 657, 'total-count': 9843}}}\n"
     ]
    }
   ],
   "source": [
    "# Getting the list of all modules of v2 API\n",
    "url = \"https://registry.terraform.io/v2/modules\"\n",
    "response = requests.get(url)\n",
    "data = json.loads(response.text)\n",
    "print(len(data['data']))\n",
    "print(data)\n",
    "#df = pd.DataFrame(data['meta'])\n",
    "#df.plot(kind='bar')\n",
    "#plt.show()"
   ],
   "metadata": {
    "collapsed": false,
    "pycharm": {
     "name": "#%%\n"
    }
   }
  },
  {
   "cell_type": "code",
   "execution_count": null,
   "outputs": [],
   "source": [
    "# Next iterate over the page of each API call to store all available modules in a list\n",
    "# Then use this data to filter for provider like aws, google, azurerm to get the count of modules for each provider\n",
    "# Then plot the count of modules for each provider"
   ],
   "metadata": {
    "collapsed": false,
    "pycharm": {
     "name": "#%%\n"
    }
   }
  }
 ],
 "metadata": {
  "kernelspec": {
   "display_name": "Python 3",
   "language": "python",
   "name": "python3"
  },
  "language_info": {
   "codemirror_mode": {
    "name": "ipython",
    "version": 2
   },
   "file_extension": ".py",
   "mimetype": "text/x-python",
   "name": "python",
   "nbconvert_exporter": "python",
   "pygments_lexer": "ipython2",
   "version": "2.7.6"
  }
 },
 "nbformat": 4,
 "nbformat_minor": 0
}