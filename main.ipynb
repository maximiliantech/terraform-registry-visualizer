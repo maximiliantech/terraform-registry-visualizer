{
 "cells": [
  {
   "cell_type": "markdown",
   "source": [
    "# Import Modules"
   ],
   "metadata": {
    "collapsed": false,
    "pycharm": {
     "name": "#%% md\n"
    }
   }
  },
  {
   "cell_type": "code",
   "execution_count": null,
   "outputs": [],
   "source": [
    "# Import modules\n",
    "import requests\n",
    "import json\n",
    "import pandas as pd\n",
    "import matplotlib.pyplot as plt"
   ],
   "metadata": {
    "collapsed": false,
    "pycharm": {
     "name": "#%%\n"
    }
   }
  },
  {
   "cell_type": "markdown",
   "source": [
    "# Defining global variables"
   ],
   "metadata": {
    "collapsed": false,
    "pycharm": {
     "name": "#%% md\n"
    }
   }
  },
  {
   "cell_type": "code",
   "execution_count": null,
   "outputs": [],
   "source": [
    "url_modules = \"https://registry.terraform.io/v2/modules\"\n",
    "url_provider = \"https://registry.terraform.io/v2/providers\""
   ],
   "metadata": {
    "collapsed": false,
    "pycharm": {
     "name": "#%%\n"
    }
   }
  },
  {
   "cell_type": "markdown",
   "source": [
    "# Defining functions"
   ],
   "metadata": {
    "collapsed": false,
    "pycharm": {
     "name": "#%% md\n"
    }
   }
  },
  {
   "cell_type": "code",
   "execution_count": 187,
   "outputs": [],
   "source": [
    "# Returns from the given URL the pagination data from JSON\n",
    "def get_pagination(url):\n",
    "    response = requests.get(url)\n",
    "    data = json.loads(response.text)\n",
    "    return data['meta']['pagination']"
   ],
   "metadata": {
    "collapsed": false,
    "pycharm": {
     "name": "#%%\n"
    }
   }
  },
  {
   "cell_type": "code",
   "execution_count": 215,
   "outputs": [],
   "source": [
    "def get_all_data(url, pages):\n",
    "    data_modules = []\n",
    "    for i in range(pages):\n",
    "        url_page = url + \"?page=\" + str(i+1)\n",
    "        response = requests.get(url_page)\n",
    "        data = json.loads(response.text)\n",
    "        # convert json data to list\n",
    "        for item in data['data']:\n",
    "            data_modules.append(item)\n",
    "\n",
    "    return data_modules"
   ],
   "metadata": {
    "collapsed": false,
    "pycharm": {
     "name": "#%%\n"
    }
   }
  },
  {
   "cell_type": "markdown",
   "source": [
    "# Providers"
   ],
   "metadata": {
    "collapsed": false,
    "pycharm": {
     "name": "#%% md\n"
    }
   }
  },
  {
   "cell_type": "code",
   "execution_count": 195,
   "outputs": [
    {
     "name": "stdout",
     "output_type": "stream",
     "text": [
      "{'page-size': 15, 'current-page': 1, 'next-page': 2, 'prev-page': None, 'total-pages': 152, 'total-count': 2267}\n"
     ]
    }
   ],
   "source": [
    "print(get_pagination(url_provider))"
   ],
   "metadata": {
    "collapsed": false,
    "pycharm": {
     "name": "#%%\n"
    }
   }
  },
  {
   "cell_type": "markdown",
   "source": [
    "# Modules"
   ],
   "metadata": {
    "collapsed": false,
    "pycharm": {
     "name": "#%% md\n"
    }
   }
  },
  {
   "cell_type": "code",
   "execution_count": 181,
   "outputs": [
    {
     "name": "stdout",
     "output_type": "stream",
     "text": [
      "15\n",
      "{'data': [{'type': 'modules', 'id': '23', 'attributes': {'downloads': 23550103, 'full-name': 'terraform-aws-modules/vpc/aws', 'name': 'vpc', 'namespace': 'terraform-aws-modules', 'owner-name': '', 'provider-logo-url': '/images/providers/aws.png', 'provider-name': 'aws', 'source': 'https://github.com/terraform-aws-modules/terraform-aws-vpc', 'verified': True}, 'links': {'self': '/v2/modules/23'}}, {'type': 'modules', 'id': '179', 'attributes': {'downloads': 16974738, 'full-name': 'cloudposse/label/null', 'name': 'label', 'namespace': 'cloudposse', 'owner-name': '', 'provider-logo-url': '/images/providers/generic.svg?2', 'provider-name': 'null', 'source': 'https://github.com/cloudposse/terraform-null-label', 'verified': False}, 'links': {'self': '/v2/modules/179'}}, {'type': 'modules', 'id': '451', 'attributes': {'downloads': 14388064, 'full-name': 'terraform-aws-modules/security-group/aws', 'name': 'security-group', 'namespace': 'terraform-aws-modules', 'owner-name': '', 'provider-logo-url': '/images/providers/aws.png', 'provider-name': 'aws', 'source': 'https://github.com/terraform-aws-modules/terraform-aws-security-group', 'verified': True}, 'links': {'self': '/v2/modules/451'}}, {'type': 'modules', 'id': '781', 'attributes': {'downloads': 13995107, 'full-name': 'terraform-aws-modules/iam/aws', 'name': 'iam', 'namespace': 'terraform-aws-modules', 'owner-name': '', 'provider-logo-url': '/images/providers/aws.png', 'provider-name': 'aws', 'source': 'https://github.com/terraform-aws-modules/terraform-aws-iam', 'verified': False}, 'links': {'self': '/v2/modules/781'}}, {'type': 'modules', 'id': '1143', 'attributes': {'downloads': 12470084, 'full-name': 'terraform-aws-modules/eks/aws', 'name': 'eks', 'namespace': 'terraform-aws-modules', 'owner-name': '', 'provider-logo-url': '/images/providers/aws.png', 'provider-name': 'aws', 'source': 'https://github.com/terraform-aws-modules/terraform-aws-eks', 'verified': False}, 'links': {'self': '/v2/modules/1143'}}, {'type': 'modules', 'id': '2787', 'attributes': {'downloads': 8984890, 'full-name': 'terraform-aws-modules/s3-bucket/aws', 'name': 's3-bucket', 'namespace': 'terraform-aws-modules', 'owner-name': '', 'provider-logo-url': '/images/providers/aws.png', 'provider-name': 'aws', 'source': 'https://github.com/terraform-aws-modules/terraform-aws-s3-bucket', 'verified': False}, 'links': {'self': '/v2/modules/2787'}}, {'type': 'modules', 'id': '70', 'attributes': {'downloads': 7796669, 'full-name': 'terraform-aws-modules/rds/aws', 'name': 'rds', 'namespace': 'terraform-aws-modules', 'owner-name': '', 'provider-logo-url': '/images/providers/aws.png', 'provider-name': 'aws', 'source': 'https://github.com/terraform-aws-modules/terraform-aws-rds', 'verified': True}, 'links': {'self': '/v2/modules/70'}}, {'type': 'modules', 'id': '5089', 'attributes': {'downloads': 6766968, 'full-name': 'terraform-aws-modules/lambda/aws', 'name': 'lambda', 'namespace': 'terraform-aws-modules', 'owner-name': '', 'provider-logo-url': '/images/providers/aws.png', 'provider-name': 'aws', 'source': 'https://github.com/terraform-aws-modules/terraform-aws-lambda', 'verified': False}, 'links': {'self': '/v2/modules/5089'}}, {'type': 'modules', 'id': '1669', 'attributes': {'downloads': 6475992, 'full-name': 'terraform-google-modules/project-factory/google', 'name': 'project-factory', 'namespace': 'terraform-google-modules', 'owner-name': '', 'provider-logo-url': '/images/providers/google-cloud.svg', 'provider-name': 'google', 'source': 'https://github.com/terraform-google-modules/terraform-google-project-factory', 'verified': True}, 'links': {'self': '/v2/modules/1669'}}, {'type': 'modules', 'id': '503', 'attributes': {'downloads': 5218844, 'full-name': 'terraform-aws-modules/alb/aws', 'name': 'alb', 'namespace': 'terraform-aws-modules', 'owner-name': '', 'provider-logo-url': '/images/providers/aws.png', 'provider-name': 'aws', 'source': 'https://github.com/terraform-aws-modules/terraform-aws-alb', 'verified': True}, 'links': {'self': '/v2/modules/503'}}, {'type': 'modules', 'id': '3537', 'attributes': {'downloads': 5189130, 'full-name': 'terraform-google-modules/gcloud/google', 'name': 'gcloud', 'namespace': 'terraform-google-modules', 'owner-name': '', 'provider-logo-url': '/images/providers/google-cloud.svg', 'provider-name': 'google', 'source': 'https://github.com/terraform-google-modules/terraform-google-gcloud', 'verified': False}, 'links': {'self': '/v2/modules/3537'}}, {'type': 'modules', 'id': '1626', 'attributes': {'downloads': 4890683, 'full-name': 'terraform-google-modules/iam/google', 'name': 'iam', 'namespace': 'terraform-google-modules', 'owner-name': '', 'provider-logo-url': '/images/providers/google-cloud.svg', 'provider-name': 'google', 'source': 'https://github.com/terraform-google-modules/terraform-google-iam', 'verified': True}, 'links': {'self': '/v2/modules/1626'}}, {'type': 'modules', 'id': '7396', 'attributes': {'downloads': 3674273, 'full-name': 'cloudposse/stack-config/yaml', 'name': 'stack-config', 'namespace': 'cloudposse', 'owner-name': '', 'provider-logo-url': '/images/providers/generic.svg?2', 'provider-name': 'yaml', 'source': 'https://github.com/cloudposse/terraform-yaml-stack-config', 'verified': False}, 'links': {'self': '/v2/modules/7396'}}, {'type': 'modules', 'id': '1881', 'attributes': {'downloads': 3667321, 'full-name': 'terraform-aws-modules/acm/aws', 'name': 'acm', 'namespace': 'terraform-aws-modules', 'owner-name': '', 'provider-logo-url': '/images/providers/aws.png', 'provider-name': 'aws', 'source': 'https://github.com/terraform-aws-modules/terraform-aws-acm', 'verified': False}, 'links': {'self': '/v2/modules/1881'}}, {'type': 'modules', 'id': '306', 'attributes': {'downloads': 3560513, 'full-name': 'terraform-aws-modules/rds-aurora/aws', 'name': 'rds-aurora', 'namespace': 'terraform-aws-modules', 'owner-name': '', 'provider-logo-url': '/images/providers/aws.png', 'provider-name': 'aws', 'source': 'https://github.com/terraform-aws-modules/terraform-aws-rds-aurora', 'verified': False}, 'links': {'self': '/v2/modules/306'}}], 'links': {'first': '/v2/modules?page%5Bnumber%5D=1&page%5Bsize%5D=15', 'last': '/v2/modules?page%5Bnumber%5D=657&page%5Bsize%5D=15', 'next': '/v2/modules?page%5Bnumber%5D=2&page%5Bsize%5D=15', 'prev': None}, 'meta': {'pagination': {'page-size': 15, 'current-page': 1, 'next-page': 2, 'prev-page': None, 'total-pages': 657, 'total-count': 9845}}}\n"
     ]
    }
   ],
   "source": [
    "# Getting the list of all modules of v2 API\n",
    "#df = pd.DataFrame(data['meta'])\n",
    "#df.plot(kind='bar')\n",
    "#plt.show()"
   ],
   "metadata": {
    "collapsed": false,
    "pycharm": {
     "name": "#%%\n"
    }
   }
  },
  {
   "cell_type": "code",
   "execution_count": 216,
   "outputs": [
    {
     "ename": "KeyError",
     "evalue": "'data'",
     "output_type": "error",
     "traceback": [
      "\u001B[0;31m---------------------------------------------------------------------------\u001B[0m",
      "\u001B[0;31mKeyError\u001B[0m                                  Traceback (most recent call last)",
      "Input \u001B[0;32mIn [216]\u001B[0m, in \u001B[0;36m<cell line: 4>\u001B[0;34m()\u001B[0m\n\u001B[1;32m      1\u001B[0m \u001B[38;5;66;03m# Next iterate over the page of each API call to store all available modules in a list\u001B[39;00m\n\u001B[1;32m      2\u001B[0m \u001B[38;5;66;03m# Then use this data to filter for provider like aws, google, azurerm to get the count of modules for each provider\u001B[39;00m\n\u001B[1;32m      3\u001B[0m \u001B[38;5;66;03m# Then plot the count of modules for each provider\u001B[39;00m\n\u001B[0;32m----> 4\u001B[0m \u001B[38;5;28mprint\u001B[39m(\u001B[38;5;28mlist\u001B[39m(\u001B[43mget_all_data\u001B[49m\u001B[43m(\u001B[49m\u001B[43murl_modules\u001B[49m\u001B[43m,\u001B[49m\u001B[43m \u001B[49m\u001B[43mget_pagination\u001B[49m\u001B[43m(\u001B[49m\u001B[43murl_modules\u001B[49m\u001B[43m)\u001B[49m\u001B[43m[\u001B[49m\u001B[38;5;124;43m'\u001B[39;49m\u001B[38;5;124;43mtotal-pages\u001B[39;49m\u001B[38;5;124;43m'\u001B[39;49m\u001B[43m]\u001B[49m\u001B[43m)\u001B[49m))\n",
      "Input \u001B[0;32mIn [215]\u001B[0m, in \u001B[0;36mget_all_data\u001B[0;34m(url, pages)\u001B[0m\n\u001B[1;32m      6\u001B[0m     data \u001B[38;5;241m=\u001B[39m json\u001B[38;5;241m.\u001B[39mloads(response\u001B[38;5;241m.\u001B[39mtext)\n\u001B[1;32m      7\u001B[0m     \u001B[38;5;66;03m# convert json data to list\u001B[39;00m\n\u001B[0;32m----> 8\u001B[0m     \u001B[38;5;28;01mfor\u001B[39;00m item \u001B[38;5;129;01min\u001B[39;00m \u001B[43mdata\u001B[49m\u001B[43m[\u001B[49m\u001B[38;5;124;43m'\u001B[39;49m\u001B[38;5;124;43mdata\u001B[39;49m\u001B[38;5;124;43m'\u001B[39;49m\u001B[43m]\u001B[49m:\n\u001B[1;32m      9\u001B[0m         data_modules\u001B[38;5;241m.\u001B[39mappend(item)\n\u001B[1;32m     11\u001B[0m \u001B[38;5;28;01mreturn\u001B[39;00m data_modules\n",
      "\u001B[0;31mKeyError\u001B[0m: 'data'"
     ]
    }
   ],
   "source": [
    "# Next iterate over the page of each API call to store all available modules in a list\n",
    "# Then use this data to filter for provider like aws, google, azurerm to get the count of modules for each provider\n",
    "# Then plot the count of modules for each provider\n",
    "print(list(get_all_data(url_modules, get_pagination(url_modules)['total-pages'])))\n",
    "# FIXME: something is not right here"
   ],
   "metadata": {
    "collapsed": false,
    "pycharm": {
     "name": "#%%\n"
    }
   }
  }
 ],
 "metadata": {
  "kernelspec": {
   "display_name": "Python 3",
   "language": "python",
   "name": "python3"
  },
  "language_info": {
   "codemirror_mode": {
    "name": "ipython",
    "version": 2
   },
   "file_extension": ".py",
   "mimetype": "text/x-python",
   "name": "python",
   "nbconvert_exporter": "python",
   "pygments_lexer": "ipython2",
   "version": "2.7.6"
  }
 },
 "nbformat": 4,
 "nbformat_minor": 0
}