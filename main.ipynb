{
 "cells": [
  {
   "cell_type": "markdown",
   "metadata": {
    "collapsed": false,
    "pycharm": {
     "name": "#%% md\n"
    }
   },
   "source": [
    "# Import Modules"
   ]
  },
  {
   "cell_type": "code",
   "execution_count": null,
   "metadata": {
    "collapsed": false,
    "pycharm": {
     "name": "#%%\n"
    }
   },
   "outputs": [],
   "source": [
    "import requests\n",
    "import json\n",
    "import pandas as pd\n",
    "import matplotlib.pyplot as plt"
   ]
  },
  {
   "cell_type": "markdown",
   "metadata": {
    "collapsed": false,
    "pycharm": {
     "name": "#%% md\n"
    }
   },
   "source": [
    "# Defining global variables"
   ]
  },
  {
   "cell_type": "code",
   "execution_count": 86,
   "metadata": {
    "collapsed": false,
    "pycharm": {
     "name": "#%%\n"
    }
   },
   "outputs": [],
   "source": [
    "# V1 Base URL\n",
    "global_url_v1_modules = \"https://registry.terraform.io/v1/modules\"\n",
    "global_url_v1_provider = \"https://registry.terraform.io/v1/providers\"\n",
    "\n",
    "# V2 Base URL\n",
    "global_url_v2_modules = \"https://registry.terraform.io/v2/modules\"\n",
    "global_url_v2_provider = \"https://registry.terraform.io/v2/providers\"\n",
    "\n",
    "# GitHub Repository URL for Providers\n",
    "global_url_github_provider_aws = \"hashicorp/terraform-provider-aws\"\n",
    "global_url_github_provider_azurerm = \"hashicorp/terraform-provider-azurerm\"\n",
    "global_url_github_provider_google = \"hashicorp/terraform-provider-google\"\n",
    "\n",
    "global_url_github_api = \"https://api.github.com\""
   ]
  },
  {
   "cell_type": "markdown",
   "metadata": {
    "collapsed": false,
    "pycharm": {
     "name": "#%% md\n"
    }
   },
   "source": [
    "# General functions"
   ]
  },
  {
   "cell_type": "code",
   "execution_count": null,
   "metadata": {},
   "outputs": [],
   "source": [
    "# Get JSON data from URL\n",
    "def get_json_data(url):\n",
    "    response = requests.get(url)\n",
    "    data = json.loads(response.text)\n",
    "    return data"
   ]
  },
  {
   "cell_type": "code",
   "execution_count": null,
   "metadata": {},
   "outputs": [],
   "source": [
    "def v1_get_pagination(url):\n",
    "    data = get_json_data(url)\n",
    "    return data['meta']"
   ]
  },
  {
   "cell_type": "code",
   "execution_count": null,
   "metadata": {},
   "outputs": [],
   "source": [
    "def get_pagination_v1_from_json(data):\n",
    "    return data['meta']"
   ]
  },
  {
   "cell_type": "code",
   "execution_count": null,
   "metadata": {
    "collapsed": false,
    "pycharm": {
     "name": "#%%\n"
    }
   },
   "outputs": [],
   "source": [
    "# Returns from the given URL the pagination data from JSON\n",
    "def v2_get_pagination(url):\n",
    "    data = get_json_data(url)\n",
    "    return data['meta']['pagination']"
   ]
  },
  {
   "cell_type": "code",
   "execution_count": null,
   "metadata": {},
   "outputs": [],
   "source": [
    "def v1_next_offset_from_url(url):\n",
    "    meta_data = v1_get_pagination(url)\n",
    "    return meta_data['next_offset']"
   ]
  },
  {
   "cell_type": "code",
   "execution_count": null,
   "metadata": {},
   "outputs": [],
   "source": [
    "def next_offset_from_json(data):\n",
    "    return data['next_offset']"
   ]
  },
  {
   "cell_type": "code",
   "execution_count": null,
   "metadata": {
    "collapsed": false,
    "pycharm": {
     "name": "#%%\n"
    }
   },
   "outputs": [],
   "source": [
    "# NOTE: Please use number+=15\n",
    "def get_page_v1(url, number):\n",
    "    url = url + \"?offset=\" + str(number)\n",
    "    response = requests.get(url)\n",
    "    data = json.loads(response.text)\n",
    "    return data\n",
    "\n",
    "get_page_v1(global_url_v1_modules, 0)"
   ]
  },
  {
   "cell_type": "markdown",
   "metadata": {
    "collapsed": false,
    "pycharm": {
     "name": "#%% md\n"
    }
   },
   "source": [
    "# Providers"
   ]
  },
  {
   "cell_type": "markdown",
   "metadata": {},
   "source": [
    "## Provider functions"
   ]
  },
  {
   "cell_type": "code",
   "execution_count": 83,
   "metadata": {},
   "outputs": [
    {
     "data": {
      "text/plain": [
       "{'errors': ['not found']}"
      ]
     },
     "execution_count": 83,
     "metadata": {},
     "output_type": "execute_result"
    }
   ],
   "source": [
    "get_json_data(global_url_v2_provider + \"/aws\")"
   ]
  },
  {
   "cell_type": "markdown",
   "metadata": {},
   "source": [
    "## Provider Visualization"
   ]
  },
  {
   "cell_type": "code",
   "execution_count": null,
   "metadata": {
    "collapsed": false,
    "pycharm": {
     "name": "#%%\n"
    }
   },
   "outputs": [],
   "source": [
    "print(v2_get_pagination(global_url_v2_provider))"
   ]
  },
  {
   "cell_type": "markdown",
   "metadata": {
    "collapsed": false,
    "pycharm": {
     "name": "#%% md\n"
    }
   },
   "source": [
    "# Modules"
   ]
  },
  {
   "cell_type": "markdown",
   "metadata": {},
   "source": [
    "## Module functions"
   ]
  },
  {
   "cell_type": "code",
   "execution_count": null,
   "metadata": {},
   "outputs": [],
   "source": [
    "def v1_get_modules_from_provider(url, provider):\n",
    "    local_list_modules = []\n",
    "    # set start URL\n",
    "    url = url + \"?provider=\" + str(provider)\n",
    "    while True:\n",
    "        # get JSON data from URL\n",
    "        data = get_json_data(url)\n",
    "\n",
    "        # get meta data header from current URL\n",
    "        page_meta_data = get_pagination_v1_from_json(data)\n",
    "\n",
    "        # if there is a next offset, get the modules\n",
    "        if \"next_offset\" in page_meta_data:\n",
    "            # get the next offset from loaded meta data\n",
    "            next_offset = next_offset_from_json(page_meta_data)\n",
    "\n",
    "            # append the modules to the local list\n",
    "            for module in data['modules']:\n",
    "                local_list_modules.append(module)\n",
    "\n",
    "            # update the url with the next offset\n",
    "            url = global_url_v1_modules + \"?provider=\" + str(provider) + \"&offset=\" + str(next_offset)\n",
    "        # if there is no next offset, break the loop\n",
    "        else:\n",
    "            # attend the displayed modules in the last page too\n",
    "            for module in data['modules']:\n",
    "                local_list_modules.append(module)\n",
    "\n",
    "            break\n",
    "            \n",
    "    return local_list_modules   "
   ]
  },
  {
   "cell_type": "code",
   "execution_count": null,
   "metadata": {
    "collapsed": false,
    "pycharm": {
     "name": "#%%\n"
    }
   },
   "outputs": [],
   "source": [
    "def get_modules_v2(url, pages):\n",
    "    local_list_modules = []\n",
    "    for i in range(pages):\n",
    "        url_page = url + \"?page%5Bnumber%5D=\" + str(i+1) + \"&page%5Bsize%5D=15\"\n",
    "        data = get_json_data(url_page)\n",
    "        print(i)\n",
    "        # convert json data to list\n",
    "        for item in data['data']:\n",
    "            local_list_modules.append(item)\n",
    "\n",
    "    return local_list_modules"
   ]
  },
  {
   "cell_type": "markdown",
   "metadata": {},
   "source": [
    "## Visualization"
   ]
  },
  {
   "cell_type": "code",
   "execution_count": null,
   "metadata": {
    "collapsed": false,
    "pycharm": {
     "name": "#%%\n"
    }
   },
   "outputs": [],
   "source": [
    "len(v1_get_modules_from_provider(global_url_v1_modules, \"oci\"))"
   ]
  },
  {
   "cell_type": "markdown",
   "metadata": {},
   "source": [
    "### AWS"
   ]
  },
  {
   "cell_type": "markdown",
   "metadata": {},
   "source": [
    "### GCP"
   ]
  },
  {
   "cell_type": "markdown",
   "metadata": {},
   "source": [
    "### Azure"
   ]
  },
  {
   "cell_type": "markdown",
   "metadata": {},
   "source": [
    "# GitHub metrics"
   ]
  },
  {
   "cell_type": "code",
   "execution_count": 126,
   "metadata": {},
   "outputs": [],
   "source": [
    "json_data_aws = get_json_data(global_url_github_api + \"/repos/\" + global_url_github_provider_aws)\n",
    "json_data_gcp = get_json_data(global_url_github_api + \"/repos/\" + global_url_github_provider_google)\n",
    "json_data_azure = get_json_data(global_url_github_api + \"/repos/\" + global_url_github_provider_azurerm)"
   ]
  },
  {
   "cell_type": "code",
   "execution_count": 146,
   "metadata": {},
   "outputs": [
    {
     "name": "stderr",
     "output_type": "stream",
     "text": [
      "/var/folders/b3/xpf5q6kd44gds4y7g83j7yyh0000gn/T/ipykernel_87162/50462718.py:2: FutureWarning: The frame.append method is deprecated and will be removed from pandas in a future version. Use pandas.concat instead.\n",
      "  df = df.append(json_data_aws, ignore_index=True)\n",
      "/var/folders/b3/xpf5q6kd44gds4y7g83j7yyh0000gn/T/ipykernel_87162/50462718.py:3: FutureWarning: The frame.append method is deprecated and will be removed from pandas in a future version. Use pandas.concat instead.\n",
      "  df = df.append(json_data_azure, ignore_index=True)\n",
      "/var/folders/b3/xpf5q6kd44gds4y7g83j7yyh0000gn/T/ipykernel_87162/50462718.py:4: FutureWarning: The frame.append method is deprecated and will be removed from pandas in a future version. Use pandas.concat instead.\n",
      "  df = df.append(json_data_gcp, ignore_index=True)\n"
     ]
    }
   ],
   "source": [
    "df = pd.DataFrame()\n",
    "df = df.append(json_data_aws, ignore_index=True)\n",
    "df = df.append(json_data_azure, ignore_index=True)\n",
    "df = df.append(json_data_gcp, ignore_index=True)"
   ]
  },
  {
   "cell_type": "markdown",
   "metadata": {},
   "source": [
    "## Visualization"
   ]
  },
  {
   "cell_type": "code",
   "execution_count": 148,
   "metadata": {},
   "outputs": [
    {
     "data": {
      "text/plain": [
       "<AxesSubplot:xlabel='name'>"
      ]
     },
     "execution_count": 148,
     "metadata": {},
     "output_type": "execute_result"
    },
    {
     "data": {
      "image/png": "[encoded data removed]",
      "text/plain": [
       "<Figure size 432x288 with 1 Axes>"
      ]
     },
     "metadata": {
      "needs_background": "light"
     },
     "output_type": "display_data"
    }
   ],
   "source": [
    "df.plot(x='name', y='forks_count', kind='bar')"
   ]
  },
  {
   "cell_type": "code",
   "execution_count": 149,
   "metadata": {},
   "outputs": [
    {
     "data": {
      "text/plain": [
       "<AxesSubplot:xlabel='name'>"
      ]
     },
     "execution_count": 149,
     "metadata": {},
     "output_type": "execute_result"
    },
    {
     "data": {
      "image/png": "[encoded data removed]",
      "text/plain": [
       "<Figure size 432x288 with 1 Axes>"
      ]
     },
     "metadata": {
      "needs_background": "light"
     },
     "output_type": "display_data"
    }
   ],
   "source": [
    "df.plot(x='name', y='open_issues_count', kind='bar')"
   ]
  }
 ],
 "metadata": {
  "kernelspec": {
   "display_name": "Python 3.10.4 ('terraform-registry-visualizer')",
   "language": "python",
   "name": "python3"
  },
  "language_info": {
   "codemirror_mode": {
    "name": "ipython",
    "version": 3
   },
   "file_extension": ".py",
   "mimetype": "text/x-python",
   "name": "python",
   "nbconvert_exporter": "python",
   "pygments_lexer": "ipython3",
   "version": "3.10.4"
  },
  "vscode": {
   "interpreter": {
    "hash": "621bd104c6ab424e35dabc483e6f6de3a97cdb9734299da1c6e6119b8821eb84"
   }
  }
 },
 "nbformat": 4,
 "nbformat_minor": 0
}
